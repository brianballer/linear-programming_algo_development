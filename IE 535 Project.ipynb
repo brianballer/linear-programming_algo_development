{
 "cells": [
  {
   "cell_type": "markdown",
   "metadata": {},
   "source": [
    "# Brian Baller IE 535 Project; ID 0011872161"
   ]
  },
  {
   "cell_type": "markdown",
   "metadata": {},
   "source": [
    "# INTRODUCTION\n",
    "\n",
    "I used the Julia language for this Simplex coding project.  If you're unfamiliar, it's similar to Python.  The main advantage is a simple syntax for matrices.  Like Python, it works with Jupyter Notebooks, which I used for this project report.  \n",
    "\n",
    "Because this project was done in Jupyter Notebooks, all functions used are in the succeeding cell.  I used the two-phase method and a tableau implementation.  Bland's rule was used for anti-cycling.   "
   ]
  },
  {
   "cell_type": "markdown",
   "metadata": {},
   "source": [
    "# SIMPLEX CODE"
   ]
  },
  {
   "cell_type": "code",
   "execution_count": 15,
   "metadata": {},
   "outputs": [
    {
     "data": {
      "text/plain": [
       "simplex (generic function with 1 method)"
      ]
     },
     "execution_count": 15,
     "metadata": {},
     "output_type": "execute_result"
    }
   ],
   "source": [
    "#### Cell with all functions for Simplex Method  ####\n",
    "\n",
    "### Key Variable Definitions\n",
    "# A, b, c, m, n -- per convention\n",
    "# J -- set of non-basic variables\n",
    "# h -- set of basic variables\n",
    "# a -- set of artificial variables\n",
    "# c_ph1 -- cost vector for Phase 1\n",
    "# Y -- matrix of y vectors (essentially the Tableau without row zero or the RHS)\n",
    "# invB -- the matrix which stores the inverse of B for Tableau initialization\n",
    "# zc -- reduced cost coefficients (row zero minus the RHS)\n",
    "# RHS -- the right-hand side row zero value (current Obj function value)\n",
    "# Tab -- matrix for the Tableau\n",
    "# a_in_B -- the set of indices that are artificial variables and in the basis\n",
    "# del_rows -- set of rows which have art variables = 0 at end of Phase 1\n",
    "# x -- solution vector\n",
    "\n",
    "### Gets the initial basis and parameters for Phase 1\n",
    "function get_phase1_setup(A)\n",
    "    m,n = size(A)\n",
    "    c_ph1 = vcat(zeros(n),ones(m))                 # cost vector for Phase 1\n",
    "    h = find(c_ph1 .> 0)                           # intial Basis for Phase 1\n",
    "    a = find(c_ph1 .> 0)                           # cataloguing which indices are artificial variables\n",
    "    Y = [A eye(m)]                                 # this Y matrix is the A matrix plus the added artificial variables\n",
    "    J = setdiff(1:n, h)                            # set of non-basic variables is difference between all and basic variables\n",
    "    return J, h, a, Y, c_ph1\n",
    "end\n",
    "\n",
    "### Populates Row Zero for both Phase 1 and Phase 2\n",
    "function get_rowzero(A, b, c, J, h, invB)          \n",
    "    \n",
    "    zc = Array{Float64}(length(c))                 # initializes reduced cost row for addition to Tableau \n",
    "    \n",
    "    for i in 1:length(c)                           # Loop calculates each reduced cosrt\n",
    "        if i in J\n",
    "            zc[i] = c[h]'*invB*A[:,i] - c[i]\n",
    "        else\n",
    "            zc[i] = 0\n",
    "        end\n",
    "    end\n",
    "    \n",
    "    RHS = c[h]'*invB*b                             # Right-hand side calculation\n",
    "    rowzero = [zc' RHS]                            # concatenation for row zero\n",
    "#    println(\"rowzero is $rowzero\")\n",
    "    \n",
    "    return rowzero\n",
    "end\n",
    "\n",
    "### Returns the Phase 1 Tableau\n",
    "function get_tab_phase1(rowzero, Y, b)\n",
    "    return [rowzero; Y b]\n",
    "end\n",
    "\n",
    "### Returns the Phase 1 Tableau\n",
    "function get_tab_phase2(rowzero, Tab, a)\n",
    "    return [rowzero; Tab[2:end,setdiff(1:length(Tab[1,:]),a)]]\n",
    "end\n",
    "\n",
    "\n",
    "### Finds and returns pivot column and row\n",
    "function pivot_location(Tab, h)                 \n",
    "                                                   # *****REQUIREMENT #5 -- Bland's Rule******\n",
    "    enter = findfirst(Tab[1,1:end-1] .> 0)         # Bland's rule -- first positive reduced cost\n",
    "#    println(\"Incoming index is \", enter)\n",
    "    y = Tab[2:length(Tab[:,1]), enter]             # y is defined as in BJS10\n",
    "#    println(\"y is: \", y)\n",
    "\n",
    "    if(maximum(y)<=0)                              # check for boundedness -- if all yi are < 0, then unbounded\n",
    "        error(\"LP is unbounded\")                   # *****REQUIREMENT #6 -- Unbounded******\n",
    "    end    \n",
    "\n",
    "    posrows = find(y .> 0)                         # finds set of row numbers with positive yi's \n",
    "    ratiotest = Tab[posrows+1,end] ./ y[posrows]   # standard ratio test for all rows with positive yi's (note the issue with Tab having m+1 columns and y having m columns)\n",
    "\n",
    "#    println(\"Ratios are: $ratiotest\")\n",
    "                                                   # *****REQUIREMENT #5 Bland's Rule******\n",
    "    exitrow = posrows[indmin(ratiotest)]           # row that exits is the min ratio (or first in the event of a tie, per Bland's rule)\n",
    "    ex_ind = h[exitrow]                            # this just gives the index of the row that's exiting\n",
    "    \n",
    "#    println(\"Outgoing index is \", ex_ind, \" in position \", exitrow)\n",
    "    return enter, exitrow\n",
    "end\n",
    "\n",
    "### Updates B and N after each pivot\n",
    "function get_new_basis(J, h, exitrow, enter, Tab)    \n",
    "\n",
    "    for i in 1:length(h)                           # loop finds exiting row and replaces it with entering index\n",
    "        if h[i] == h[exitrow]\n",
    "            h[i] = enter\n",
    "        end\n",
    "    end\n",
    "\n",
    "    J = setdiff(1:length(Tab[1,:])-1, h)           # determines updated J\n",
    "\n",
    "#    println(\"J is: \", J, \"  B is: \", h)\n",
    "    return J, h\n",
    "end\n",
    "\n",
    "### Performs row operations on Tableau to generate new Tableau\n",
    "function row_operations(Tab, exitrow, enter)        \n",
    "\n",
    "    pivrowold = Array{Float64}(length(Tab[1,:]))   # array to temporarily store old outgoing basic variable row\n",
    "    mult = Array{Float64}(length(Tab[:,1]))             # multipliers for all row operations\n",
    "\n",
    "    for i in 1:length(Tab[:,1])                    # loop calculates multiplier for each row\n",
    "        if i == exitrow + 1\n",
    "            mult[i] = 1/Tab[exitrow+1,enter]\n",
    "            pivrowold = copy(Tab[i,:])\n",
    "#            println(\"old pivot row is: \", pivrowold')\n",
    "        else \n",
    "            mult[i] = -Tab[i,enter]/Tab[exitrow+1,enter]     \n",
    "        end\n",
    "#    println(\"row\",i-1,\" is: \",mult[i])\n",
    "    end\n",
    "\n",
    "    for i in 1:length(Tab[:,1])                    # loop uses multipliers to calculate new rows\n",
    "        if i != exitrow + 1\n",
    "            tempROW = mult[i]*pivrowold' + Tab[i,:]'\n",
    "            Tab[i,:] = tempROW'\n",
    "        else\n",
    "            Tab[i,:] = mult[i]*Tab[i,:]\n",
    "        end\n",
    "#        println(\"new row\",i-1,\" is: \", Tab[i,:]')\n",
    "    end\n",
    "\n",
    "    return Tab\n",
    "end\n",
    "\n",
    "### Checks for optimal solution and performs one Tableau update iteration\n",
    "function update_tab(J, h, Tab)                 \n",
    "    if(maximum(Tab[1,1:end-1]) <= 0)           # checks reduced costs\n",
    "        xb = Tab[2:length(Tab[:,1]),end]\n",
    "#        println(\"h is: \", h)\n",
    "        return J, h, Tab\n",
    "    else                                       # calls the tableau manipulation functions in succession   \n",
    "        enter, exitrow = pivot_location(Tab, h)\n",
    "        J, h = get_new_basis(J, h, exitrow, enter, Tab)\n",
    "        Tab = row_operations(Tab, exitrow, enter)\n",
    "        return update_tab(J,h, Tab)             # after Tableau updated, sends back for optimal check and further update\n",
    "    end\n",
    "end\n",
    "\n",
    "### Finds and returns an initial Identity basis if available   *****REQUIREMENT #4******\n",
    "function find_initial_basis(A)\n",
    "    m,n = size(A)\n",
    "    h = ones(m)\n",
    "    h = find(h .> 0)\n",
    "    I = eye(m)\n",
    "    for i in 1:n\n",
    "        for j in 1:m\n",
    "            if I[:,j] == A[:,i]\n",
    "                h[j] = i\n",
    "            end\n",
    "        end\n",
    "    end\n",
    "#    println(h)\n",
    "    return h\n",
    "end\n",
    "\n",
    "### Main function for Simplex\n",
    "function simplex(A, b, c)                    \n",
    "    \n",
    "    m,n = size(A)\n",
    "    invB = eye(m)                                      # I start all problems by adding m artificial variables\n",
    "    \n",
    "    ### Gets Phase 1 Tableau      *****REQUIREMENT #4******\n",
    "    J, h, a, Y, c_ph1 = get_phase1_setup(A)            # Gets the initial basis and parameters for Phase 1  \n",
    "    rowzero = get_rowzero(A, b, c_ph1, J, h, invB)     # Populates Row Zero for Phase 1\n",
    "    Tab = get_tab_phase1(rowzero, Y, b)                # Returns the Phase 1 Tableau\n",
    "\n",
    "    ### Updates Tableau\n",
    "    J, h, Tab = update_tab(J, h, Tab)                  \n",
    "\n",
    "    ### Prints solution from Phase 1\n",
    "    x = zeros(n+m)\n",
    "    x[h] = Tab[2:end,end]\n",
    "#    println(\"x is $x and Obj is \", Tab[1,end])\n",
    "#    println(\"art vars are:\",x[a])\n",
    "    \n",
    "    ### Checks for feasibility  *****REQUIREMENT #2******\n",
    "    a_in_B = intersect(a,h)\n",
    "    if length(a_in_B) != 0 && maximum(x[a_in_B]) > 0.0000001   # If artificial variables in basis != 0 -- infeasible\n",
    "        return(\"Infeasible\")                                   # Using 0.00000001 b/c of rounding errors w/ Model 12\n",
    "    end\n",
    "    \n",
    "    ### Check for redundancy and deletes redundant rows     *****REQUIREMENT #3******\n",
    "    if length(a_in_B) != 0                             # If art. variables in basis and = 0, redundant rows\n",
    "        del_rows = findin(h, a_in_B)                   # Finds any art variables still in basis\n",
    "        ## Deletes redundant rows from Tab and A matrices\n",
    "        Tab = Tab[setdiff(1:length(Tab[:,1]), del_rows+1),setdiff(1:length(Tab[1,:]),a_in_B)]\n",
    "        A = A[setdiff(1:length(A[:,1]), del_rows),setdiff(1:length(A[1,:]),a_in_B)]\n",
    "        h = setdiff(h, a_in_B)                         # Updates h\n",
    "        a = collect(minimum(a):length(Tab[1,:])-1)     # Updates a (to ensure proper inverse B)\n",
    "        b = b[setdiff(1:length(b[:,1]), del_rows),:]   # Deletes redundant row from b\n",
    "#        println(Tab[:,1])\n",
    "#        println(\"h is $h and ainB is $a_in_B and del is $del_rows and a is $a\")\n",
    "    end\n",
    "\n",
    "    \n",
    "    ### Gets Phase 2 Tableau and Updates\n",
    "    invB = Tab[2:end,a]\n",
    "#    println(invB)\n",
    "    rowzero = get_rowzero(A, b, c, J, h, invB)         # Populates Row Zero for Phase 2\n",
    "#    println(rowzero, a)\n",
    "    Tab = get_tab_phase2(rowzero, Tab, a)              # Returns the Phase 2 Tableau\n",
    "    J, h, Tab = update_tab(J, h, Tab)\n",
    "    \n",
    "    \n",
    "    ### Prints final solution\n",
    "    x = zeros(n)\n",
    "    x[h] = Tab[2:end,end]\n",
    "    println(\"Obj is \", Tab[1,end])\n",
    "    println(\"Opt x*:\")\n",
    "    for j=1:length(x)\n",
    "        println(\"x_$j = \", x[j])\n",
    "    end\n",
    "    \n",
    "#    return h\n",
    "end"
   ]
  },
  {
   "cell_type": "markdown",
   "metadata": {},
   "source": [
    "# COMMERCIAL SOLVER\n",
    "\n",
    "All the project problems and \"test\" problems were solved with both my algorithm and Julia's built-in solver.  Julia has a modeling language called \"JuMP\" which is similar to AMPL.  Gurobi and Cplex can be used with JuMP, but I used the open-source Cbc solver because Gurobi was causing an error on my Mac due to some setting on my Mac.  The nice thing about using JuMP was that I could use both my solver and the commercial solver in the same Julia Notebook.  Information on JuMP can be accessed at http://www.juliaopt.org/JuMP.jl/0.16/quickstart.html. \n",
    "\n",
    "I tested my algorithm with about 15 example problems from the BJS book, the MIT book and your lecture notes.  All of these \"test\" problems are not included, except for three problems to demonstrate that my algorithm met the requirements.  All \"test\" problems and project problems are solved first with my algorithm then with the commercial solver.  "
   ]
  },
  {
   "cell_type": "markdown",
   "metadata": {},
   "source": [
    "# Commercial Solver Code"
   ]
  },
  {
   "cell_type": "code",
   "execution_count": 16,
   "metadata": {},
   "outputs": [
    {
     "data": {
      "text/plain": [
       "comm_simplex (generic function with 1 method)"
      ]
     },
     "execution_count": 16,
     "metadata": {},
     "output_type": "execute_result"
    }
   ],
   "source": [
    "# Commercial Solver Function\n",
    "\n",
    "using JuMP\n",
    "using Cbc\n",
    "\n",
    "function comm_simplex(A, b, c)\n",
    "    mod = Model(solver=CbcSolver())\n",
    "\n",
    "    m, n = size(A)\n",
    "\n",
    "    @variable(mod, x[1:n] >= 0)\n",
    "\n",
    "    @objective(mod, Min, sum( c[j]*x[j] for j=1:n) )\n",
    "\n",
    "    @constraint(mod, constraint[i=1:m], sum( A[i,j]*x[j] for j=1:n ) == b[i] )\n",
    "\n",
    "    status = solve(mod)\n",
    "\n",
    "    println(\"JuMP Model:\")\n",
    "    print(mod)\n",
    "\n",
    "    println(\"Objective value: \", getobjectivevalue(mod))\n",
    "    println(\"Opt x*:\")\n",
    "    for j=1:n\n",
    "      println(\"x_$j = \", getvalue(x[j]))\n",
    "    end\n",
    "end"
   ]
  },
  {
   "cell_type": "markdown",
   "metadata": {},
   "source": [
    "# CODING REQUIREMENTS\n",
    "\n",
    "Below I outline the six coding requirement from the posted guidance.  \n",
    "\n",
    "1.  All problems were converted manually to standard form. \n",
    "2.  Feasibility is checked at the completion of Phase 1.  If any artificial variables remain in the basis at the end of Phase 1, the problem is either infeasible or has redundant rows.  If any $x_a != 0$ and is still in the basis at Phase 1 end, the original LP is infeasible. Because I used phase 1 to check for feasibility and redundancy, I ran all problems through Phase 1 and Phase 2 (maybe not the most efficient, but worked well for my smaller problems)\n",
    "\n",
    "### Infeasible Example"
   ]
  },
  {
   "cell_type": "markdown",
   "metadata": {},
   "source": [
    "#### My Algorithm"
   ]
  },
  {
   "cell_type": "code",
   "execution_count": 17,
   "metadata": {},
   "outputs": [
    {
     "data": {
      "text/plain": [
       "\"Infeasible\""
      ]
     },
     "execution_count": 17,
     "metadata": {},
     "output_type": "execute_result"
    }
   ],
   "source": [
    "# This is an example from the notes on Oct. 30th with my algorithm\n",
    "\n",
    "A = [1 1\n",
    "     2 2]\n",
    "c = [1,2]\n",
    "b = [1,3]\n",
    "\n",
    "simplex(A,b,c)"
   ]
  },
  {
   "cell_type": "markdown",
   "metadata": {},
   "source": [
    "#### Commercial Solver"
   ]
  },
  {
   "cell_type": "code",
   "execution_count": 18,
   "metadata": {},
   "outputs": [
    {
     "name": "stdout",
     "output_type": "stream",
     "text": [
      "JuMP Model:\n",
      "Min x[1] + 2 x[2]\n",
      "Subject to\n",
      " x[1] + x[2] = 1\n",
      " 2 x[1] + 2 x[2] = 3\n",
      " x[i] ≥ 0 ∀ i ∈ {1,2}\n",
      "Objective value: NaN\n",
      "Opt x*:\n",
      "x_1 = NaN\n",
      "x_2 = NaN\n"
     ]
    },
    {
     "name": "stderr",
     "output_type": "stream",
     "text": [
      "\u001b[1m\u001b[33mWarning: \u001b[39m\u001b[22m\u001b[33mNot solved to optimality, status: Infeasible\u001b[39m\n",
      "\u001b[1m\u001b[33mWarning: \u001b[39m\u001b[22m\u001b[33mInfeasibility ray (Farkas proof) not available\u001b[39m\n",
      "\u001b[1m\u001b[33mWarning: \u001b[39m\u001b[22m\u001b[33mVariable value not defined for x[1]. Check that the model was properly solved.\u001b[39m\n",
      "\u001b[1m\u001b[33mWarning: \u001b[39m\u001b[22m\u001b[33mVariable value not defined for x[2]. Check that the model was properly solved.\u001b[39m\n"
     ]
    }
   ],
   "source": [
    "# Ex from notes on Oct. 30th with Commercial Solver\n",
    "\n",
    "comm_simplex(A, b, c)"
   ]
  },
  {
   "cell_type": "markdown",
   "metadata": {},
   "source": [
    "3.  If any $x_a = 0$ and is still in the basis at Phase 1 end, then that row is redundant.  It can be deleted from the Tableau (as well as its corresponding column from $B^{-1}$)\n",
    "\n",
    "### Redundacy Example"
   ]
  },
  {
   "cell_type": "markdown",
   "metadata": {},
   "source": [
    "#### My Algorithm"
   ]
  },
  {
   "cell_type": "code",
   "execution_count": 19,
   "metadata": {},
   "outputs": [
    {
     "name": "stdout",
     "output_type": "stream",
     "text": [
      "Obj is 1.75\n",
      "Opt x*:\n",
      "x_1 = 0.5\n",
      "x_2 = 1.25\n",
      "x_3 = 0.0\n",
      "x_4 = 1.0\n"
     ]
    }
   ],
   "source": [
    "# MIT Ex. 3.8 with my algorithm -- Redundant Rows\n",
    "\n",
    "A = [1 2 3 0\n",
    "    -1 2 6 0\n",
    "     0 4 9 0\n",
    "     0 0 3 1]\n",
    "c = [1,1,1,0]\n",
    "b = [3,2,5,1]\n",
    "\n",
    "simplex(A,b,c)"
   ]
  },
  {
   "cell_type": "markdown",
   "metadata": {},
   "source": [
    "#### Commercial Solver"
   ]
  },
  {
   "cell_type": "code",
   "execution_count": 20,
   "metadata": {},
   "outputs": [
    {
     "name": "stdout",
     "output_type": "stream",
     "text": [
      "JuMP Model:\n",
      "Min x[1] + x[2] + x[3]\n",
      "Subject to\n",
      " x[1] + 2 x[2] + 3 x[3] = 3\n",
      " -x[1] + 2 x[2] + 6 x[3] = 2\n",
      " 4 x[2] + 9 x[3] = 5\n",
      " 3 x[3] + x[4] = 1\n",
      " x[i] ≥ 0 ∀ i ∈ {1,2,3,4}\n",
      "Objective value: 1.75\n",
      "Opt x*:\n",
      "x_1 = 0.4999999999999999\n",
      "x_2 = 1.25\n",
      "x_3 = 0.0\n",
      "x_4 = 0.9999999999999998\n"
     ]
    }
   ],
   "source": [
    "# MIT Ex. 3.8 with Commercial Solver\n",
    "\n",
    "comm_simplex(A, b, c)"
   ]
  },
  {
   "cell_type": "markdown",
   "metadata": {},
   "source": [
    "4.  I made a function to find an initial identity matrix, but as mentioned earlier, I used the two-phase method for all problems to check for feasibility and redundancy.  Thus, I started all problems with an identity matrix by including m artificial variables and executing the two-phase method. \n",
    "5.  Bland's rule was used.  \n",
    "6.  Both finite optimal solution and unbounded solutions are handled.\n",
    "\n",
    "### Unbounded Example"
   ]
  },
  {
   "cell_type": "markdown",
   "metadata": {},
   "source": [
    "#### My Algorithm"
   ]
  },
  {
   "cell_type": "code",
   "execution_count": 21,
   "metadata": {},
   "outputs": [
    {
     "ename": "LoadError",
     "evalue": "\u001b[91mLP is unbounded\u001b[39m",
     "output_type": "error",
     "traceback": [
      "\u001b[91mLP is unbounded\u001b[39m",
      "",
      "Stacktrace:",
      " [1] \u001b[1mpivot_location\u001b[22m\u001b[22m\u001b[1m(\u001b[22m\u001b[22m::Array{Float64,2}, ::Array{Int64,1}\u001b[1m)\u001b[22m\u001b[22m at \u001b[1m./In[15]:69\u001b[22m\u001b[22m",
      " [2] \u001b[1mupdate_tab\u001b[22m\u001b[22m\u001b[1m(\u001b[22m\u001b[22m::Array{Int64,1}, ::Array{Int64,1}, ::Array{Float64,2}\u001b[1m)\u001b[22m\u001b[22m at \u001b[1m./In[15]:136\u001b[22m\u001b[22m",
      " [3] \u001b[1msimplex\u001b[22m\u001b[22m\u001b[1m(\u001b[22m\u001b[22m::Array{Int64,2}, ::Array{Int64,1}, ::Array{Int64,1}\u001b[1m)\u001b[22m\u001b[22m at \u001b[1m./In[15]:206\u001b[22m\u001b[22m",
      " [4] \u001b[1minclude_string\u001b[22m\u001b[22m\u001b[1m(\u001b[22m\u001b[22m::String, ::String\u001b[1m)\u001b[22m\u001b[22m at \u001b[1m./loading.jl:522\u001b[22m\u001b[22m",
      " [5] \u001b[1mexecute_request\u001b[22m\u001b[22m\u001b[1m(\u001b[22m\u001b[22m::ZMQ.Socket, ::IJulia.Msg\u001b[1m)\u001b[22m\u001b[22m at \u001b[1m/Users/rina/.julia/v0.6/IJulia/src/execute_request.jl:193\u001b[22m\u001b[22m",
      " [6] \u001b[1m(::Compat.#inner#6{Array{Any,1},IJulia.#execute_request,Tuple{ZMQ.Socket,IJulia.Msg}})\u001b[22m\u001b[22m\u001b[1m(\u001b[22m\u001b[22m\u001b[1m)\u001b[22m\u001b[22m at \u001b[1m/Users/rina/.julia/v0.6/Compat/src/Compat.jl:189\u001b[22m\u001b[22m",
      " [7] \u001b[1meventloop\u001b[22m\u001b[22m\u001b[1m(\u001b[22m\u001b[22m::ZMQ.Socket\u001b[1m)\u001b[22m\u001b[22m at \u001b[1m/Users/rina/.julia/v0.6/IJulia/src/eventloop.jl:8\u001b[22m\u001b[22m",
      " [8] \u001b[1m(::IJulia.##13#16)\u001b[22m\u001b[22m\u001b[1m(\u001b[22m\u001b[22m\u001b[1m)\u001b[22m\u001b[22m at \u001b[1m./task.jl:335\u001b[22m\u001b[22m"
     ]
    }
   ],
   "source": [
    "#BJS Problem 3.28 with my algorithm -- Unbounded\n",
    "\n",
    "A = [2 -3 -1 1 1 0 0\n",
    "     -1 2 2 -3 0 1 0\n",
    "     -1 1 -4 1 0 0 1]\n",
    "c = [3, -2, 1, -1,0,0,0]\n",
    "b = [0,1,8]\n",
    "\n",
    "simplex(A, b, c)"
   ]
  },
  {
   "cell_type": "markdown",
   "metadata": {},
   "source": [
    "#### Commercial Solver"
   ]
  },
  {
   "cell_type": "code",
   "execution_count": 22,
   "metadata": {},
   "outputs": [
    {
     "name": "stdout",
     "output_type": "stream",
     "text": [
      "JuMP Model:\n",
      "Min 3 x[1] - 2 x[2] + x[3] - x[4]\n",
      "Subject to\n",
      " 2 x[1] - 3 x[2] - x[3] + x[4] + x[5] = 0\n",
      " -x[1] + 2 x[2] + 2 x[3] - 3 x[4] + x[6] = 1\n",
      " -x[1] + x[2] - 4 x[3] + x[4] + x[7] = 8\n",
      " x[i] ≥ 0 ∀ i ∈ {1,2,…,6,7}\n",
      "Objective value: NaN\n",
      "Opt x*:\n",
      "x_1 = NaN\n",
      "x_2 = NaN\n",
      "x_3 = NaN\n",
      "x_4 = NaN\n",
      "x_5 = NaN\n",
      "x_6 = NaN\n",
      "x_7 = NaN\n"
     ]
    },
    {
     "name": "stderr",
     "output_type": "stream",
     "text": [
      "\u001b[1m\u001b[33mWarning: \u001b[39m\u001b[22m\u001b[33mNot solved to optimality, status: Unbounded\u001b[39m\n",
      "\u001b[1m\u001b[33mWarning: \u001b[39m\u001b[22m\u001b[33mUnbounded ray not available\u001b[39m\n",
      "\u001b[1m\u001b[33mWarning: \u001b[39m\u001b[22m\u001b[33mVariable value not defined for x[1]. Check that the model was properly solved.\u001b[39m\n",
      "\u001b[1m\u001b[33mWarning: \u001b[39m\u001b[22m\u001b[33mVariable value not defined for x[2]. Check that the model was properly solved.\u001b[39m\n",
      "\u001b[1m\u001b[33mWarning: \u001b[39m\u001b[22m\u001b[33mVariable value not defined for x[3]. Check that the model was properly solved.\u001b[39m\n",
      "\u001b[1m\u001b[33mWarning: \u001b[39m\u001b[22m\u001b[33mVariable value not defined for x[4]. Check that the model was properly solved.\u001b[39m\n",
      "\u001b[1m\u001b[33mWarning: \u001b[39m\u001b[22m\u001b[33mVariable value not defined for x[5]. Check that the model was properly solved.\u001b[39m\n",
      "\u001b[1m\u001b[33mWarning: \u001b[39m\u001b[22m\u001b[33mVariable value not defined for x[6]. Check that the model was properly solved.\u001b[39m\n",
      "\u001b[1m\u001b[33mWarning: \u001b[39m\u001b[22m\u001b[33mVariable value not defined for x[7]. Check that the model was properly solved.\u001b[39m\n"
     ]
    }
   ],
   "source": [
    "# BJS Problem 3.28 with Commercial Solver\n",
    "\n",
    "comm_simplex(A, b, c)"
   ]
  },
  {
   "cell_type": "markdown",
   "metadata": {},
   "source": [
    "# Assigned Problems\n",
    "\n",
    "My assigned problems were 11 and 12 with 7* for extra credit.  All are solved below and the solutions match the commercial solver!"
   ]
  },
  {
   "cell_type": "markdown",
   "metadata": {},
   "source": [
    "## Model 11\n",
    "\n",
    "$x_{ij}$ is the weight of ith type cargo in the jth compartment; i = 1,2,3,4 and j = f, c, b (front, center, back)\n",
    "\n",
    "max $280x_{1f} + 280x_{1c} + 280x_{1b} + 360x_{2f} + 360x_{2c} + 360x_{2b} + 320x_{3f} + 320x_{3c} + 320x_{3b} + 250x_{4f} + 250x_{4c} + 250x_{4b}$\n",
    "\n",
    "s.t. $x_{1f} + x_{2f} + x_{3f} + x_{4f} \\leq 12$  Front weight constraint\n",
    "\n",
    "$x_{1c} + x_{2c} + x_{3c} + x_{4c} \\leq 18$  Center weight constraint\n",
    "\n",
    "$x_{1b} + x_{2b} + x_{3b} + x_{4b} \\leq 10$  Back weight constraint\n",
    "\n",
    "$500x_{1f} + 700x_{2f} + 600x_{3f} + 400x_{4f} \\leq 7000$  Front space constraint\n",
    "\n",
    "$500x_{1c} + 700x_{2c} + 600x_{3c} + 400x_{4c} \\leq 9000$  Center space constraint\n",
    "\n",
    "$500x_{1b} + 700x_{2b} + 600x_{3b} + 400x_{4b} \\leq 5000$  Back space constraint\n",
    "\n",
    "$18(x_{1f} + x_{2f} + x_{3f} + x_{4f}) - 12(x_{1c} + x_{2c} + x_{3c} + x_{4c}) = 0$  Front/center proportional constraint\n",
    "\n",
    "$10(x_{1f} + x_{2f} + x_{3f} + x_{4f}) - 12(x_{1b} + x_{2b} + x_{3b} + x_{4b}) = 0$  Front/back proportional constraint\n",
    "\n",
    "$10(x_{1c} + x_{2c} + x_{3c} + x_{4c}) - 18(x_{1b} + x_{2b} + x_{3b} + x_{4b}) = 0$  Center/back proportional constraint\n",
    "\n",
    "$x_{1f} + x_{1c} + x_{1b} \\leq 20$  Total type 1 cargo available\n",
    "\n",
    "$x_{2f} + x_{2c} + x_{2b} \\leq 16$  Total type 2 cargo available\n",
    "\n",
    "$x_{3f} + x_{3c} + x_{3b} \\leq 25$  Total type 3 cargo available\n",
    "\n",
    "$x_{4f} + x_{4c} + x_{4b} \\leq 13$  Total type 4 cargo available"
   ]
  },
  {
   "cell_type": "markdown",
   "metadata": {},
   "source": [
    "#### My Algorithm"
   ]
  },
  {
   "cell_type": "code",
   "execution_count": 23,
   "metadata": {},
   "outputs": [
    {
     "name": "stdout",
     "output_type": "stream",
     "text": [
      "Obj is -11730.000000000011\n",
      "Opt x*:\n",
      "x_1 = 6.999999999999993\n",
      "x_2 = 0.0\n",
      "x_3 = 3.99999999999999\n",
      "x_4 = 5.000000000000003\n",
      "x_5 = 0.0\n",
      "x_6 = 2.000000000000006\n",
      "x_7 = 0.0\n",
      "x_8 = 8.999999999999998\n",
      "x_9 = 0.0\n",
      "x_10 = 0.0\n",
      "x_11 = 9.000000000000002\n",
      "x_12 = 4.000000000000007\n",
      "x_13 = 1.3877787807815862e-17\n",
      "x_14 = 3.6221026178395724e-15\n",
      "x_15 = 0.0\n",
      "x_16 = 0.0\n",
      "x_17 = 0.0\n",
      "x_18 = 0.0\n",
      "x_19 = 9.000000000000009\n",
      "x_20 = 8.999999999999993\n",
      "x_21 = 15.999999999999996\n",
      "x_22 = 0.0\n"
     ]
    }
   ],
   "source": [
    "# Model 11 with My Algorithm\n",
    "\n",
    "#     1f    1c    1b    2f    2c    2b    3f   3c   3b   4f   4c   4b  s1 s2 s3 s4 s5 s6 s7 s8 s9 s10\n",
    "A =   [1    0     0     1     0     0     1     0    0    1    0    0  1  0  0  0  0  0  0  0  0  0\n",
    "       0    1     0     0     1     0     0     1    0    0    1    0  0  1  0  0  0  0  0  0  0  0\n",
    "       0    0     1     0     0     1     0     0    1    0    0    1  0  0  1  0  0  0  0  0  0  0 \n",
    "       500  0     0    700    0     0    600    0    0   400   0    0  0  0  0  1  0  0  0  0  0  0\n",
    "       0   500    0     0    700    0     0    600   0    0   400   0  0  0  0  0  1  0  0  0  0  0\n",
    "       0    0    500    0     0    700    0     0    600  0    0   400 0  0  0  0  0  1  0  0  0  0\n",
    "       18  -12    0    18    -12    0     18   -12   0    18  -12   0  0  0  0  0  0  0  0  0  0  0\n",
    "       10   0    -12   10     0    -12    10    0   -12   10   0   -12 0  0  0  0  0  0  0  0  0  0\n",
    "       0    10   -18    0    10    -18    0    10   -18   0    10  -18 0  0  0  0  0  0  0  0  0  0\n",
    "       1    1     1     0     0     0     0     0    0    0    0    0  0  0  0  0  0  0  1  0  0  0\n",
    "       0    0     0     1     1     1     0     0    0    0    0    0  0  0  0  0  0  0  0  1  0  0\n",
    "       0    0     0     0     0     0     1     1    1    0    0    0  0  0  0  0  0  0  0  0  1  0\n",
    "       0    0     0     0     0     0     0     0    0    1    1    1  0  0  0  0  0  0  0  0  0  1]\n",
    "b = [12, 18, 10, 7000, 9000, 5000, 0, 0, 0, 20, 16, 25, 13]\n",
    "c = [-280, -280, -280, -360, -360, -360, -320, -320, -320, -250, -250, -250, 0,0,0,0,0,0,0,0,0,0]\n",
    "\n",
    "simplex(A, b, c)      #Calls main simplex function"
   ]
  },
  {
   "cell_type": "markdown",
   "metadata": {},
   "source": [
    "#### Commercial Solver"
   ]
  },
  {
   "cell_type": "code",
   "execution_count": 24,
   "metadata": {
    "scrolled": true
   },
   "outputs": [
    {
     "name": "stdout",
     "output_type": "stream",
     "text": [
      "JuMP Model:\n",
      "Min -280 x[1] - 280 x[2] - 280 x[3] - 360 x[4] - 360 x[5] - 360 x[6] - 320 x[7] - 320 x[8] - 320 x[9] - 250 x[10] - 250 x[11] - 250 x[12]\n",
      "Subject to\n",
      " x[1] + x[4] + x[7] + x[10] + x[13] = 12\n",
      " x[2] + x[5] + x[8] + x[11] + x[14] = 18\n",
      " x[3] + x[6] + x[9] + x[12] + x[15] = 10\n",
      " 500 x[1] + 700 x[4] + 600 x[7] + 400 x[10] + x[16] = 7000\n",
      " 500 x[2] + 700 x[5] + 600 x[8] + 400 x[11] + x[17] = 9000\n",
      " 500 x[3] + 700 x[6] + 600 x[9] + 400 x[12] + x[18] = 5000\n",
      " 18 x[1] - 12 x[2] + 18 x[4] - 12 x[5] + 18 x[7] - 12 x[8] + 18 x[10] - 12 x[11] = 0\n",
      " 10 x[1] - 12 x[3] + 10 x[4] - 12 x[6] + 10 x[7] - 12 x[9] + 10 x[10] - 12 x[12] = 0\n",
      " 10 x[2] - 18 x[3] + 10 x[5] - 18 x[6] + 10 x[8] - 18 x[9] + 10 x[11] - 18 x[12] = 0\n",
      " x[1] + x[2] + x[3] + x[19] = 20\n",
      " x[4] + x[5] + x[6] + x[20] = 16\n",
      " x[7] + x[8] + x[9] + x[21] = 25\n",
      " x[10] + x[11] + x[12] + x[22] = 13\n",
      " x[i] ≥ 0 ∀ i ∈ {1,2,…,21,22}\n",
      "Objective value: -11730.000000000002\n",
      "Opt x*:\n",
      "x_1 = 7.0\n",
      "x_2 = 0.0\n",
      "x_3 = 3.9999999999999862\n",
      "x_4 = 5.0\n",
      "x_5 = 0.0\n",
      "x_6 = 2.0000000000000067\n",
      "x_7 = 0.0\n",
      "x_8 = 9.000000000000007\n",
      "x_9 = 0.0\n",
      "x_10 = 0.0\n",
      "x_11 = 8.999999999999993\n",
      "x_12 = 4.000000000000007\n",
      "x_13 = 0.0\n",
      "x_14 = 0.0\n",
      "x_15 = 0.0\n",
      "x_16 = 0.0\n",
      "x_17 = 0.0\n",
      "x_18 = 0.0\n",
      "x_19 = 9.000000000000014\n",
      "x_20 = 8.999999999999993\n",
      "x_21 = 15.999999999999993\n",
      "x_22 = 0.0\n"
     ]
    }
   ],
   "source": [
    "# Model 11 with Commercial Solver\n",
    "\n",
    "comm_simplex(A, b, c)"
   ]
  },
  {
   "cell_type": "markdown",
   "metadata": {},
   "source": [
    "## Model 12\n",
    "\n",
    "$x_i$ is the lbs of the ith alloy used per pound of total product\n",
    "\n",
    "min $19x_1 + 17x_2 + 23x_3 + 21x_4 + 25x_5$     cost per pound of total product\n",
    "\n",
    "st $0.6x_1 + 0.25x_2 + 0.45x_3 + 0.2x_4 + 0.5x_5 = 0.4$   tin constraint\n",
    "\n",
    "$0.1x_1 + 0.15x_2 + 0.45x_3 + 0.5x_4 + 0.4x_5 = 0.35$   zinc constraint\n",
    "\n",
    "$0.3x_1 + 0.6x_2 + 0.1x_3 + 0.3x_4 + 0.1x_5 = 0.25$    lead constraint\n",
    "\n",
    "$x_1 + x_2 + x_3 + x_4 + x_5 = 1$    ensures total of all alloys used equals one lb"
   ]
  },
  {
   "cell_type": "markdown",
   "metadata": {},
   "source": [
    "#### My Algorithm"
   ]
  },
  {
   "cell_type": "code",
   "execution_count": 25,
   "metadata": {},
   "outputs": [
    {
     "name": "stdout",
     "output_type": "stream",
     "text": [
      "Obj is 20.812499999999996\n",
      "Opt x*:\n",
      "x_1 = 0.34375000000000006\n",
      "x_2 = 0.0\n",
      "x_3 = 0.25000000000000006\n",
      "x_4 = 0.4062499999999999\n",
      "x_5 = 0.0\n"
     ]
    }
   ],
   "source": [
    "# Model 12 with My Algorithm\n",
    "\n",
    "#  x_1 x_2 x_3 x_4 x_5\n",
    "A = [.6 .25 .45 .2 .5\n",
    "     .1 .15 .45 .5 .4\n",
    "     .3 .60 .10 .3 .1\n",
    "      1  1   1   1  1]\n",
    "b = [.4, .35, .25, 1]\n",
    "c = [19, 17, 23, 21, 25]\n",
    "\n",
    "simplex(A, b, c)            "
   ]
  },
  {
   "cell_type": "markdown",
   "metadata": {},
   "source": [
    "#### Commercial Solver"
   ]
  },
  {
   "cell_type": "code",
   "execution_count": 26,
   "metadata": {},
   "outputs": [
    {
     "name": "stdout",
     "output_type": "stream",
     "text": [
      "JuMP Model:\n",
      "Min 19 x[1] + 17 x[2] + 23 x[3] + 21 x[4] + 25 x[5]\n",
      "Subject to\n",
      " 0.6 x[1] + 0.25 x[2] + 0.45 x[3] + 0.2 x[4] + 0.5 x[5] = 0.4\n",
      " 0.1 x[1] + 0.15 x[2] + 0.45 x[3] + 0.5 x[4] + 0.4 x[5] = 0.35\n",
      " 0.3 x[1] + 0.6 x[2] + 0.1 x[3] + 0.3 x[4] + 0.1 x[5] = 0.25\n",
      " x[1] + x[2] + x[3] + x[4] + x[5] = 1\n",
      " x[i] ≥ 0 ∀ i ∈ {1,2,3,4,5}\n",
      "Objective value: 20.8125\n",
      "Opt x*:\n",
      "x_1 = 0.3437500000000001\n",
      "x_2 = 0.0\n",
      "x_3 = 0.24999999999999994\n",
      "x_4 = 0.40624999999999994\n",
      "x_5 = 0.0\n"
     ]
    }
   ],
   "source": [
    "# Model 12 with Commercial Solver\n",
    "\n",
    "comm_simplex(A, b, c)"
   ]
  },
  {
   "cell_type": "markdown",
   "metadata": {},
   "source": [
    "## Model 7*\n",
    "$d_k$ is the total direct workers in the kth week w/ k = 1,2,3,4  (direct workers are actually producing product)\n",
    "\n",
    "$i_k$ is the total indirect workers in the kth week w/ k = 1,2,3,4   (indirect workers are idle)\n",
    "\n",
    "$t_k$ is the total trainers in the kth week w/ k = 1,2,3,4    (trainers are training 3 new workers each)\n",
    "\n",
    "max $50(15d_1 + 13d_2 + 11d_3 + 9d_4) - 200(d_1 + i_1 + t_1 + d_2 + i_2 + t_2 + d_3 + i_3 + t_3 + d_4 + i_4 + t_4) - 100(3)(t_1 + t_2 + t_3 + t_4)$\n",
    "\n",
    "max $550d_1 + 450d_2 + 350d_3 + 250d_4 - 200i_1 - 200i_2 - 200i_3 - 200i_4 - 500t_1 - 500t_2 - 500t_3 - 500t_4$\n",
    "\n",
    "s.t.\n",
    "   $d_1 + i_1 + t_1 = 40$\n",
    "\n",
    "   $d_2 + i_2 + t_2 = d_1 + i_1 + t_1 + 3t_1$\n",
    "   \n",
    "   $d_3 + i_3 + t_3 = d_2 + i_2 + t_2 + 3t_2$\n",
    "   \n",
    "   $d_4 + i_4 + t_4 = d_3 + i_3 + t_3 + 3t_3$\n",
    "   \n",
    "   $50d_1 + 50d_2 + 50d_3 + 50d_4 \\geq 21475$\n",
    "   \n",
    "s.t. \n",
    "   $d_1 + i_1 + t_1 = 40$\n",
    "\n",
    "   $-d_1 - i_1 - 4t_1 + d_2 + i_2 + t_2 = 0$\n",
    "   \n",
    "   $0d_1 + 0i_1 + 0t_1 - d_2 - i_2 - 4t_2 + d_3 + i_3 + t_3 = 0$\n",
    "   \n",
    "   $0d_1 + 0i_1 + 0t_1 + 0d_2 + 0i_2 + 0t_2 - d_3 - i_3 - 4t_3 + d_4 + i_4 + t_4 = 0$\n",
    "   \n",
    "   $50d_1 + 50d_2 + 50d_3 + 50d_4 - s_1 = 21475$\n",
    "   "
   ]
  },
  {
   "cell_type": "markdown",
   "metadata": {},
   "source": [
    "#### My Algorithm"
   ]
  },
  {
   "cell_type": "code",
   "execution_count": 27,
   "metadata": {},
   "outputs": [
    {
     "name": "stdout",
     "output_type": "stream",
     "text": [
      "Obj is -284000.0\n",
      "Opt x*:\n",
      "x_1 = 0.0\n",
      "x_2 = 0.0\n",
      "x_3 = 640.0\n",
      "x_4 = 640.0\n",
      "x_5 = 0.0\n",
      "x_6 = 0.0\n",
      "x_7 = 0.0\n",
      "x_8 = 0.0\n",
      "x_9 = 40.0\n",
      "x_10 = 160.0\n",
      "x_11 = 0.0\n",
      "x_12 = 0.0\n",
      "x_13 = 42525.0\n"
     ]
    }
   ],
   "source": [
    "# Model 7* with My Algorithm\n",
    "\n",
    "#   d_1 d_2 d_3 d_4  i_1  i_2  i_3  i_4  t_1  t_2  t_3  t_4 s_1\n",
    "A =   [1  0   0   0   1    0    0    0    1    0    0    0  0\n",
    "       -1 1   0   0   -1   1    0    0    -4   1    0    0  0\n",
    "       0 -1   1   0   0   -1    1    0    0    -4   1    0  0\n",
    "       0  0  -1   1   0    0    -1   1    0    0    -4   1  0\n",
    "       50 50 50  50   0    0    0    0    0    0    0    0  -1\n",
    "       0  0   0   0   0    0    0    0    0    0    0    1  0]\n",
    "b = [40, 0, 0, 0, 21475, 0]\n",
    "c = [-550, -450, -350, -250, +200, +200, +200, +200, +500, +500, +500, +500, 0]\n",
    "\n",
    "simplex(A, b, c)"
   ]
  },
  {
   "cell_type": "markdown",
   "metadata": {},
   "source": [
    "#### Commercial Solver"
   ]
  },
  {
   "cell_type": "code",
   "execution_count": 28,
   "metadata": {},
   "outputs": [
    {
     "name": "stdout",
     "output_type": "stream",
     "text": [
      "JuMP Model:\n",
      "Min -550 x[1] - 450 x[2] - 350 x[3] - 250 x[4] + 200 x[5] + 200 x[6] + 200 x[7] + 200 x[8] + 500 x[9] + 500 x[10] + 500 x[11] + 500 x[12]\n",
      "Subject to\n",
      " x[1] + x[5] + x[9] = 40\n",
      " -x[1] + x[2] - x[5] + x[6] - 4 x[9] + x[10] = 0\n",
      " -x[2] + x[3] - x[6] + x[7] - 4 x[10] + x[11] = 0\n",
      " -x[3] + x[4] - x[7] + x[8] - 4 x[11] + x[12] = 0\n",
      " 50 x[1] + 50 x[2] + 50 x[3] + 50 x[4] - x[13] = 21475\n",
      " x[12] = 0\n",
      " x[i] ≥ 0 ∀ i ∈ {1,2,…,12,13}\n",
      "Objective value: -284000.0\n",
      "Opt x*:\n",
      "x_1 = 0.0\n",
      "x_2 = 0.0\n",
      "x_3 = 640.0\n",
      "x_4 = 640.0\n",
      "x_5 = 0.0\n",
      "x_6 = 0.0\n",
      "x_7 = 0.0\n",
      "x_8 = 0.0\n",
      "x_9 = 40.0\n",
      "x_10 = 160.0\n",
      "x_11 = 0.0\n",
      "x_12 = 0.0\n",
      "x_13 = 42525.0\n"
     ]
    }
   ],
   "source": [
    "# Model 7* with Commercial Solver\n",
    "\n",
    "comm_simplex(A, b, c)"
   ]
  }
 ],
 "metadata": {
  "kernelspec": {
   "display_name": "Julia 0.6.3",
   "language": "julia",
   "name": "julia-0.6"
  },
  "language_info": {
   "file_extension": ".jl",
   "mimetype": "application/julia",
   "name": "julia",
   "version": "0.6.3"
  }
 },
 "nbformat": 4,
 "nbformat_minor": 4
}
